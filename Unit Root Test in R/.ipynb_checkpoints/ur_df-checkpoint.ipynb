{
 "cells": [
  {
   "cell_type": "code",
   "execution_count": 2,
   "metadata": {},
   "outputs": [
    {
     "name": "stdout",
     "output_type": "stream",
     "text": [
      "# ADF Test\n",
      "\n"
     ]
    },
    {
     "name": "stderr",
     "output_type": "stream",
     "text": [
      "line 39:15 no viable alternative at input 'function(y,type=c('none','drift','trend'),lags=1,selectlags=c('Fixed','AIC','BIC'))\\n{\\nselectlags=match.arg(selectlags)\\ntype=match.arg(type)\\n\\nif(ncol(as.matrix(y))>1)\\n{\\nstop('\\ny is not a vector or univariate time series.\\n')\\n}\\n\\nif(any(is.na(y)))\\n{\\nstop('\\nNAs in y.\\n')\\n}\\n\\ny=as.vector(y)\\nlag=as.integer(lags)\\n\\nif(lag<0)\\n{\\nstop('\\nLags must be set to an non negative integer value.\\n')\\n}\\n\\nCALL=match.call()\\nDNAME=deparse(substitute(y))\\nx.name=deparse(substitute(y))\\nlags=lags+1\\nz=diff(y)\\nn=length(z)\\nx=embed(z,lags)\\nz.diff=x[,'\n",
      "line 3:55 mismatched input ',' expecting {';', NL}\n"
     ]
    }
   ],
   "source": [
    "def ur_df(y, type, lags, selectlags):\n",
    "    "
   ]
  }
 ],
 "metadata": {
  "kernelspec": {
   "display_name": "Python 3",
   "language": "python",
   "name": "python3"
  },
  "language_info": {
   "codemirror_mode": {
    "name": "ipython",
    "version": 3
   },
   "file_extension": ".py",
   "mimetype": "text/x-python",
   "name": "python",
   "nbconvert_exporter": "python",
   "pygments_lexer": "ipython3",
   "version": "3.5.2"
  }
 },
 "nbformat": 4,
 "nbformat_minor": 2
}
