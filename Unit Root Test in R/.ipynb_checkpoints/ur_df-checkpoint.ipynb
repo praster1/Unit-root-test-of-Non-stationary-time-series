{
 "cells": [
  {
   "cell_type": "code",
   "execution_count": 20,
   "metadata": {},
   "outputs": [],
   "source": [
    "import numpy as np\n",
    "\n",
    "### isNaN\n",
    "def isNaN(num):\n",
    "    return num != num\n",
    "\n",
    "\n",
    "### type 인자 예외처리\n",
    "def trycatch_type(type):\n",
    "    type_allowed = [\"none\", \"drift\", \"trend\"]\n",
    "    if type not in type_allowed:\n",
    "        raise ValueError\n",
    "\n",
    "        \n",
    "### select 인자 예외처리\n",
    "def trycatch_selectlags(selectlags):\n",
    "    selectlags_allowed = [\"Fixed\", \"AIC\", \"BIC\"]\n",
    "    if selectlags not in selectlags_allowed:\n",
    "        raise ValueError\n",
    "    \n",
    "    \n",
    "    \n",
    "### ADF Test    \n",
    "def ur_df(y, type, lags, selectlags):\n",
    "    y = np.array(y)\n",
    "    \n",
    "    # type 인자 예외처리\n",
    "    try:\n",
    "        trycatch_type(type)\n",
    "    except ValueError:\n",
    "         print('type 인자에 잘못된 값을 넣었습니다!')\n",
    "        \n",
    "    # select 인자 예외처리\n",
    "    try:\n",
    "        trycatch_selectlags(selectlags)\n",
    "    except ValueError:\n",
    "         print('selectlags 인자에 잘못된 값을 넣었습니다!')\n",
    "    \n",
    "    \n",
    "    if (np.size(y, 1) > 1)\n",
    "        \n",
    "        \n",
    "        \n",
    "        \n",
    "ur_df(\"none\", \"Fixed\")"
   ]
  },
  {
   "cell_type": "code",
   "execution_count": 92,
   "metadata": {},
   "outputs": [
    {
     "ename": "TypeError",
     "evalue": "'module' object is not callable",
     "output_type": "error",
     "traceback": [
      "\u001b[0;31m---------------------------------------------------------------------------\u001b[0m",
      "\u001b[0;31mTypeError\u001b[0m                                 Traceback (most recent call last)",
      "\u001b[0;32m<ipython-input-92-d9b98133d84e>\u001b[0m in \u001b[0;36m<module>\u001b[0;34m\u001b[0m\n\u001b[1;32m     53\u001b[0m \u001b[0mlags\u001b[0m \u001b[0;34m=\u001b[0m \u001b[0mlags\u001b[0m \u001b[0;34m+\u001b[0m \u001b[0;36m1\u001b[0m\u001b[0;34m\u001b[0m\u001b[0m\n\u001b[1;32m     54\u001b[0m \u001b[0;34m\u001b[0m\u001b[0m\n\u001b[0;32m---> 55\u001b[0;31m \u001b[0mz\u001b[0m \u001b[0;34m=\u001b[0m \u001b[0mdifference\u001b[0m\u001b[0;34m(\u001b[0m\u001b[0my\u001b[0m\u001b[0;34m)\u001b[0m\u001b[0;34m\u001b[0m\u001b[0m\n\u001b[0m\u001b[1;32m     56\u001b[0m \u001b[0mn\u001b[0m \u001b[0;34m=\u001b[0m \u001b[0mnp\u001b[0m\u001b[0;34m.\u001b[0m\u001b[0msize\u001b[0m\u001b[0;34m(\u001b[0m\u001b[0mz\u001b[0m\u001b[0;34m)\u001b[0m\u001b[0;34m\u001b[0m\u001b[0m\n\u001b[1;32m     57\u001b[0m \u001b[0;34m\u001b[0m\u001b[0m\n",
      "\u001b[0;31mTypeError\u001b[0m: 'module' object is not callable"
     ]
    }
   ],
   "source": [
    "import numpy as np\n",
    "\n",
    "import trycatch\n",
    "import difference\n",
    "\n",
    "   \n",
    "    \n",
    "### ADF Test    \n",
    "y = [0.63879800,    0.06408028,    0.48604897,   -1.58697346,    0.30119843,\n",
    "     0.52400797,   -1.00631168,   -1.71601178,   -1.11615800,   -1.95483223,\n",
    "     1.25138559,   -0.03914765,    0.29340561,   -0.26979114,   -2.19076537,\n",
    "    -0.41272851,    0.82519253,   -1.58494589,   -0.59528146,   -1.13331441,\n",
    "    -0.02561859,    1.04058840,   -0.15183498,   -1.72953257,   -0.43774242,\n",
    "    -0.35912475,   -0.92478409,    0.36345445,   -2.89838335,    0.17969599,\n",
    "    -0.94153923,   -0.92721559,    0.35548862,   -1.37925653,   -0.33343839,\n",
    "     1.77508187,    0.93348700,    0.34664076,   -0.13148586,   -0.99556941,\n",
    "     0.22235388,    0.19082698,   -0.68070331,   -0.07998095,   -0.05132541,\n",
    "     0.27217320,    0.79859116,   -0.26117486,   -0.25679888,   -1.08725721,\n",
    "     0.06868815,   -0.22138414,    2.04232367,   -0.38412594,    3.00486151,\n",
    "    -0.24512904,   -0.71143873,   -0.15900114,    1.59604924,    0.26362804,\n",
    "    -0.41155883,   -0.17556811,   -1.40720515,    0.64582375,   -1.78894285, \n",
    "     1.82167080,   -0.98903683,    0.72921922,   -0.77866089,    0.82266470,\n",
    "    -0.48025938,   -0.47855899,   -1.39339553,    1.08481269,   -1.45591627,\n",
    "     0.27207592,    2.06500493,    0.70595652,    1.31198462,   -0.55897218,\n",
    "    -0.85137257,    1.81072471,    1.70872944,    0.26915856,   -0.75111565,\n",
    "    -0.78609945,    0.14488176,    0.04472911,   -0.39526862,   -1.49188673,\n",
    "     1.12522571,   -1.29881997,   -1.07821846,   -0.34596076,    0.61521773,\n",
    "     0.41804365,   -1.32955607,    0.38376991,    0.76712652,   -0.58262202]\n",
    "\n",
    "\n",
    "y = np.array(y)\n",
    "type = \"none\"\n",
    "selectlags = \"Fixed\"\n",
    "lags = 1\n",
    "\n",
    "trycatch_type(type)     # type 인자 예외처리\n",
    "trycatch_selectlags(selectlags)     # select 인자 예외처리\n",
    "trycatch_univariate(y)     # y is not a vector or univariate time series.\n",
    "trycatch_NA(y)     # y is not a vector or univariate time series.\n",
    "        \n",
    "\n",
    "# y = as.vector(y)     # 구현 불필요\n",
    "lag = int(lags)\n",
    "\n",
    "\n",
    "### Lags must be set to an non negative integer value.\n",
    "\n",
    "\n",
    "        \n",
    "# CALL = match.call()     # 구현 불필요\n",
    "# DNAME = deparse(substitute(y))     # 구현 불필요\n",
    "# x.name = deparse(substitute(y))     # 구현 불필요\n",
    "lags = lags + 1\n",
    "\n",
    "z = difference(y)\n",
    "n = np.size(z)\n",
    "\n",
    "\n",
    "\n",
    "#ur_df(\"none\", \"Fixed\")"
   ]
  },
  {
   "cell_type": "code",
   "execution_count": 197,
   "metadata": {},
   "outputs": [
    {
     "name": "stdout",
     "output_type": "stream",
     "text": [
      "[[0.]\n",
      " [0.]\n",
      " [0.]\n",
      " [0.]\n",
      " [0.]\n",
      " [0.]\n",
      " [0.]\n",
      " [0.]\n",
      " [0.]\n",
      " [0.]]\n"
     ]
    },
    {
     "ename": "ValueError",
     "evalue": "could not broadcast input array from shape (0) into shape (1)",
     "output_type": "error",
     "traceback": [
      "\u001b[0;31m---------------------------------------------------------------------------\u001b[0m",
      "\u001b[0;31mValueError\u001b[0m                                Traceback (most recent call last)",
      "\u001b[0;32m<ipython-input-197-ee65263f905b>\u001b[0m in \u001b[0;36m<module>\u001b[0;34m\u001b[0m\n\u001b[1;32m     38\u001b[0m \u001b[0my\u001b[0m \u001b[0;34m=\u001b[0m \u001b[0mnp\u001b[0m\u001b[0;34m.\u001b[0m\u001b[0marray\u001b[0m\u001b[0;34m(\u001b[0m \u001b[0;34m[\u001b[0m\u001b[0;36m0.63879800\u001b[0m\u001b[0;34m,\u001b[0m    \u001b[0;36m0.06408028\u001b[0m\u001b[0;34m,\u001b[0m    \u001b[0;36m0.48604897\u001b[0m\u001b[0;34m,\u001b[0m   \u001b[0;34m-\u001b[0m\u001b[0;36m1.58697346\u001b[0m\u001b[0;34m,\u001b[0m    \u001b[0;36m0.30119843\u001b[0m\u001b[0;34m,\u001b[0m \u001b[0;36m0.52400797\u001b[0m\u001b[0;34m,\u001b[0m   \u001b[0;34m-\u001b[0m\u001b[0;36m1.00631168\u001b[0m\u001b[0;34m,\u001b[0m   \u001b[0;34m-\u001b[0m\u001b[0;36m1.71601178\u001b[0m\u001b[0;34m,\u001b[0m   \u001b[0;34m-\u001b[0m\u001b[0;36m1.11615800\u001b[0m\u001b[0;34m,\u001b[0m   \u001b[0;34m-\u001b[0m\u001b[0;36m1.95483223\u001b[0m\u001b[0;34m]\u001b[0m\u001b[0;34m)\u001b[0m\u001b[0;34m\u001b[0m\u001b[0m\n\u001b[1;32m     39\u001b[0m \u001b[0;34m\u001b[0m\u001b[0m\n\u001b[0;32m---> 40\u001b[0;31m \u001b[0membed\u001b[0m\u001b[0;34m(\u001b[0m\u001b[0my\u001b[0m\u001b[0;34m,\u001b[0m \u001b[0;36m1\u001b[0m\u001b[0;34m)\u001b[0m\u001b[0;34m\u001b[0m\u001b[0m\n\u001b[0m",
      "\u001b[0;32m<ipython-input-197-ee65263f905b>\u001b[0m in \u001b[0;36membed\u001b[0;34m(x, dimension)\u001b[0m\n\u001b[1;32m     32\u001b[0m \u001b[0;34m\u001b[0m\u001b[0m\n\u001b[1;32m     33\u001b[0m     \u001b[0;32mfor\u001b[0m \u001b[0mi\u001b[0m \u001b[0;32min\u001b[0m \u001b[0mrange\u001b[0m\u001b[0;34m(\u001b[0m\u001b[0;36m1\u001b[0m\u001b[0;34m,\u001b[0m \u001b[0mm\u001b[0m\u001b[0;34m)\u001b[0m\u001b[0;34m:\u001b[0m\u001b[0;34m\u001b[0m\u001b[0m\n\u001b[0;32m---> 34\u001b[0;31m         \u001b[0mres\u001b[0m\u001b[0;34m[\u001b[0m\u001b[0mi\u001b[0m\u001b[0;34m,\u001b[0m\u001b[0;34m:\u001b[0m\u001b[0;34m]\u001b[0m \u001b[0;34m=\u001b[0m \u001b[0mx\u001b[0m\u001b[0;34m[\u001b[0m\u001b[0mlist\u001b[0m\u001b[0;34m(\u001b[0m\u001b[0mrange\u001b[0m\u001b[0;34m(\u001b[0m\u001b[0mi\u001b[0m\u001b[0;34m,\u001b[0m\u001b[0;34m(\u001b[0m\u001b[0mi\u001b[0m\u001b[0;34m+\u001b[0m\u001b[0mdimension\u001b[0m\u001b[0;34m-\u001b[0m\u001b[0;36m1\u001b[0m\u001b[0;34m)\u001b[0m\u001b[0;34m)\u001b[0m\u001b[0;34m)\u001b[0m\u001b[0;34m]\u001b[0m\u001b[0;34m\u001b[0m\u001b[0m\n\u001b[0m\u001b[1;32m     35\u001b[0m \u001b[0;34m\u001b[0m\u001b[0m\n\u001b[1;32m     36\u001b[0m     \u001b[0;32mreturn\u001b[0m \u001b[0mres\u001b[0m\u001b[0;34m\u001b[0m\u001b[0m\n",
      "\u001b[0;31mValueError\u001b[0m: could not broadcast input array from shape (0) into shape (1)"
     ]
    }
   ],
   "source": [
    "### embed function: wrong embedding dimension / dimension < 1\n",
    "def trycatch_embed1(dimension):\n",
    "    try:\n",
    "        if dimension < 1:\n",
    "            raise ValueError\n",
    "    except ValueError:\n",
    "        print('wrong embedding dimension')\n",
    "\n",
    "\n",
    "### embed function: wrong embedding dimension / dimension > n\n",
    "def trycatch_embed2(dimension, n):\n",
    "    try:\n",
    "        if dimension > n:\n",
    "            raise ValueError\n",
    "    except ValueError:\n",
    "        print('wrong embedding dimension')\n",
    "\n",
    "\n",
    "import trycatch\n",
    "\n",
    "def embed(x, dimension = 1):\n",
    "    x = np.array(x)\n",
    "    n = np.size(x)\n",
    "    trycatch_embed1(dimension)   # if dimension < 1\n",
    "    trycatch_embed2(dimension, n)   # if dimension > n\n",
    "\n",
    "    m = n - dimension + 1\n",
    "    nrows = n - dimension + 1\n",
    "    ncols = dimension\n",
    "    res = np.zeros((nrows, ncols))\n",
    "    print(res)\n",
    "    \n",
    "    for i in range(1, m):\n",
    "        res[i,:] = x[list(range(i,(i+dimension-1)))]\n",
    "    \n",
    "    return res\n",
    "    \n",
    "y = np.array( [0.63879800,    0.06408028,    0.48604897,   -1.58697346,    0.30119843, 0.52400797,   -1.00631168,   -1.71601178,   -1.11615800,   -1.95483223])\n",
    "\n",
    "print(embed(y, 1))"
   ]
  },
  {
   "cell_type": "code",
   "execution_count": 161,
   "metadata": {},
   "outputs": [
    {
     "name": "stdout",
     "output_type": "stream",
     "text": [
      "10\n",
      "[5, 5, 5, 5, 5]\n",
      "[[ 0.638798    0.06408028  0.48604897 -1.58697346  0.30119843]\n",
      " [ 0.52400797 -1.00631168 -1.71601178 -1.116158   -1.95483223]]\n",
      "1\n",
      "[ 0.52400797 -1.00631168 -1.71601178 -1.116158   -1.95483223]\n"
     ]
    }
   ],
   "source": [
    "y = np.array( [[0.63879800,    0.06408028,    0.48604897,   -1.58697346,    0.30119843],\n",
    "               [0.52400797,   -1.00631168,   -1.71601178,   -1.11615800,   -1.95483223]])\n",
    "print(np.size(y))\n",
    "print([5]*5)\n",
    "print(y)\n",
    "print(1)\n",
    "m = 2\n",
    "\n",
    "print(y[1,:])"
   ]
  },
  {
   "cell_type": "code",
   "execution_count": 136,
   "metadata": {},
   "outputs": [
    {
     "data": {
      "text/plain": [
       "array([0., 0.])"
      ]
     },
     "execution_count": 136,
     "metadata": {},
     "output_type": "execute_result"
    }
   ],
   "source": [
    "import numpy as np\n",
    "A = np.zeros([2,2])\n",
    "A[:,1]"
   ]
  },
  {
   "cell_type": "code",
   "execution_count": 110,
   "metadata": {},
   "outputs": [
    {
     "name": "stdout",
     "output_type": "stream",
     "text": [
      "matrix(0, n - dimension + 1, dimension * m)\n",
      "\n"
     ]
    }
   ],
   "source": [
    "rscript = \"\"\"\n",
    "matrix(0, n - dimension + 1L, dimension * m)\n",
    "\"\"\"\n",
    "\n",
    "from pyensae.languages import r2python\n",
    "print(r2python(rscript, pep8=True))"
   ]
  }
 ],
 "metadata": {
  "kernelspec": {
   "display_name": "Python 3",
   "language": "python",
   "name": "python3"
  },
  "language_info": {
   "codemirror_mode": {
    "name": "ipython",
    "version": 3
   },
   "file_extension": ".py",
   "mimetype": "text/x-python",
   "name": "python",
   "nbconvert_exporter": "python",
   "pygments_lexer": "ipython3",
   "version": "3.5.2"
  }
 },
 "nbformat": 4,
 "nbformat_minor": 2
}
