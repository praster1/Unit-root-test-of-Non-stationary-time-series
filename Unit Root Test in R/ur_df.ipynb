{
 "cells": [
  {
   "cell_type": "code",
   "execution_count": null,
   "metadata": {},
   "outputs": [],
   "source": []
  },
  {
   "cell_type": "code",
   "execution_count": 20,
   "metadata": {},
   "outputs": [],
   "source": [
    "#def ur_df(y, type, lags, selectlags):\n",
    "\n",
    "### type 인자 예외처리\n",
    "def trycatch_type(type):\n",
    "    type_allowed = [\"none\", \"drift\", \"trend\"]\n",
    "    if type not in type_allowed:\n",
    "        raise ValueError\n",
    "\n",
    "### select 인자 예외처리\n",
    "def trycatch_selectlags(selectlags):\n",
    "    selectlags_allowed = [\"Fixed\", \"AIC\", \"BIC\"]\n",
    "    if selectlags not in selectlags_allowed:\n",
    "        raise ValueError\n",
    "    \n",
    "    \n",
    "### ADF Test    \n",
    "def ur_df(type, selectlags):\n",
    "    # type 인자 예외처리\n",
    "    try:\n",
    "        trycatch_type(type)\n",
    "    except ValueError:\n",
    "         print('type 인자에 잘못된 값을 넣었습니다!')\n",
    "        \n",
    "    # select 인자 예외처리\n",
    "    try:\n",
    "        trycatch_selectlags(selectlags)\n",
    "    except ValueError:\n",
    "         print('selectlags 인자에 잘못된 값을 넣었습니다!')\n",
    "           \n",
    "        \n",
    "        \n",
    "        \n",
    "        \n",
    "ur_df(\"none\", \"Fixed\")"
   ]
  }
 ],
 "metadata": {
  "kernelspec": {
   "display_name": "Python 3",
   "language": "python",
   "name": "python3"
  },
  "language_info": {
   "codemirror_mode": {
    "name": "ipython",
    "version": 3
   },
   "file_extension": ".py",
   "mimetype": "text/x-python",
   "name": "python",
   "nbconvert_exporter": "python",
   "pygments_lexer": "ipython3",
   "version": "3.5.2"
  }
 },
 "nbformat": 4,
 "nbformat_minor": 2
}
