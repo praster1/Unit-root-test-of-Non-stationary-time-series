{
 "cells": [
  {
   "cell_type": "code",
   "execution_count": 20,
   "metadata": {},
   "outputs": [],
   "source": [
    "import numpy as np\n",
    "\n",
    "\n",
    "### type 인자 예외처리\n",
    "def trycatch_type(type):\n",
    "    type_allowed = [\"none\", \"drift\", \"trend\"]\n",
    "    if type not in type_allowed:\n",
    "        raise ValueError\n",
    "\n",
    "        \n",
    "### select 인자 예외처리\n",
    "def trycatch_selectlags(selectlags):\n",
    "    selectlags_allowed = [\"Fixed\", \"AIC\", \"BIC\"]\n",
    "    if selectlags not in selectlags_allowed:\n",
    "        raise ValueError\n",
    "    \n",
    "    \n",
    "    \n",
    "### ADF Test    \n",
    "def ur_df(y, type, lags, selectlags):\n",
    "    y = np.array(y)\n",
    "    \n",
    "    # type 인자 예외처리\n",
    "    try:\n",
    "        trycatch_type(type)\n",
    "    except ValueError:\n",
    "         print('type 인자에 잘못된 값을 넣었습니다!')\n",
    "        \n",
    "    # select 인자 예외처리\n",
    "    try:\n",
    "        trycatch_selectlags(selectlags)\n",
    "    except ValueError:\n",
    "         print('selectlags 인자에 잘못된 값을 넣었습니다!')\n",
    "    \n",
    "    \n",
    "    if (np.size(y, 1) > 1)\n",
    "    \n",
    "    \n",
    "        \n",
    "        \n",
    "ur_df(\"none\", \"Fixed\")"
   ]
  },
  {
   "cell_type": "code",
   "execution_count": 13,
   "metadata": {},
   "outputs": [
    {
     "ename": "IndexError",
     "evalue": "tuple index out of range",
     "output_type": "error",
     "traceback": [
      "\u001b[0;31m---------------------------------------------------------------------------\u001b[0m",
      "\u001b[0;31mIndexError\u001b[0m                                Traceback (most recent call last)",
      "\u001b[0;32m<ipython-input-13-2dd065fc4a60>\u001b[0m in \u001b[0;36m<module>\u001b[0;34m\u001b[0m\n\u001b[1;32m     23\u001b[0m \u001b[0;34m\u001b[0m\u001b[0m\n\u001b[1;32m     24\u001b[0m \u001b[0my\u001b[0m \u001b[0;34m=\u001b[0m \u001b[0mnp\u001b[0m\u001b[0;34m.\u001b[0m\u001b[0marray\u001b[0m\u001b[0;34m(\u001b[0m\u001b[0my\u001b[0m\u001b[0;34m)\u001b[0m\u001b[0;34m\u001b[0m\u001b[0m\n\u001b[0;32m---> 25\u001b[0;31m \u001b[0mnp\u001b[0m\u001b[0;34m.\u001b[0m\u001b[0msize\u001b[0m\u001b[0;34m(\u001b[0m\u001b[0my\u001b[0m\u001b[0;34m,\u001b[0m\u001b[0;36m1\u001b[0m\u001b[0;34m)\u001b[0m\u001b[0;34m\u001b[0m\u001b[0m\n\u001b[0m",
      "\u001b[0;32m/usr/local/lib/python3.5/dist-packages/numpy/core/fromnumeric.py\u001b[0m in \u001b[0;36msize\u001b[0;34m(a, axis)\u001b[0m\n\u001b[1;32m   2727\u001b[0m     \u001b[0;32melse\u001b[0m\u001b[0;34m:\u001b[0m\u001b[0;34m\u001b[0m\u001b[0m\n\u001b[1;32m   2728\u001b[0m         \u001b[0;32mtry\u001b[0m\u001b[0;34m:\u001b[0m\u001b[0;34m\u001b[0m\u001b[0m\n\u001b[0;32m-> 2729\u001b[0;31m             \u001b[0;32mreturn\u001b[0m \u001b[0ma\u001b[0m\u001b[0;34m.\u001b[0m\u001b[0mshape\u001b[0m\u001b[0;34m[\u001b[0m\u001b[0maxis\u001b[0m\u001b[0;34m]\u001b[0m\u001b[0;34m\u001b[0m\u001b[0m\n\u001b[0m\u001b[1;32m   2730\u001b[0m         \u001b[0;32mexcept\u001b[0m \u001b[0mAttributeError\u001b[0m\u001b[0;34m:\u001b[0m\u001b[0;34m\u001b[0m\u001b[0m\n\u001b[1;32m   2731\u001b[0m             \u001b[0;32mreturn\u001b[0m \u001b[0masarray\u001b[0m\u001b[0;34m(\u001b[0m\u001b[0ma\u001b[0m\u001b[0;34m)\u001b[0m\u001b[0;34m.\u001b[0m\u001b[0mshape\u001b[0m\u001b[0;34m[\u001b[0m\u001b[0maxis\u001b[0m\u001b[0;34m]\u001b[0m\u001b[0;34m\u001b[0m\u001b[0m\n",
      "\u001b[0;31mIndexError\u001b[0m: tuple index out of range"
     ]
    }
   ],
   "source": [
    "import numpy as np\n",
    "\n",
    "y = [0.63879800,\t0.06408028,\t\t0.48604897,\t\t-1.58697346,\t0.30119843,\n",
    "     0.52400797,\t\t-1.00631168,\t-1.71601178,\t-1.11615800,\t-1.95483223,\n",
    "\t1.25138559,\t\t-0.03914765,\t0.29340561,\t\t-0.26979114,\t-2.19076537,\n",
    "\t-0.41272851,\t0.82519253,\t\t-1.58494589,\t-0.59528146,\t-1.13331441,\n",
    "\t-0.02561859,\t1.04058840,\t\t-0.15183498,\t-1.72953257,\t-0.43774242,\n",
    "\t-0.35912475,\t-0.92478409,\t0.36345445,\t\t-2.89838335,\t0.17969599,\n",
    "\t-0.94153923,\t-0.92721559,\t 0.35548862,\t-1.37925653,\t-0.33343839,\n",
    "\t1.77508187,\t\t0.93348700,\t\t0.34664076,\t\t-0.13148586,\t-0.99556941,\n",
    "\t0.22235388,\t\t0.19082698,\t\t-0.68070331,\t-0.07998095,\t-0.05132541,\n",
    "\t0.27217320,\t\t0.79859116,\t\t-0.26117486,\t-0.25679888,\t-1.08725721,\n",
    "\t0.06868815,\t\t-0.22138414,\t2.04232367,\t\t-0.38412594,\t3.00486151,\n",
    "\t-0.24512904,\t-0.71143873,\t-0.15900114,\t1.59604924,\t\t0.26362804,\n",
    "\t-0.41155883,\t-0.17556811,\t-1.40720515,\t0.64582375,\t\t-1.78894285, \n",
    "\t1.82167080,\t\t-0.98903683,\t0.72921922,\t\t-0.77866089,\t0.82266470,\n",
    "\t-0.48025938,\t-0.47855899,\t-1.39339553,\t1.08481269,\t\t-1.45591627,\n",
    "\t0.27207592,\t\t2.06500493,\t\t0.70595652,\t\t1.31198462,\t\t-0.55897218,\n",
    "\t-0.85137257,\t1.81072471,\t\t1.70872944,\t\t0.26915856,\t\t-0.75111565,\n",
    "\t-0.78609945,\t0.14488176,\t\t0.04472911,\t\t-0.39526862,\t-1.49188673,\n",
    "\t1.12522571,\t\t-1.29881997,\t-1.07821846,\t-0.34596076,\t0.61521773,\n",
    "\t0.41804365,\t\t-1.32955607,\t0.38376991,\t\t0.76712652,\t\t-0.58262202]\n",
    "\n",
    "y = np.array(y)\n",
    "np.size(y,1)"
   ]
  }
 ],
 "metadata": {
  "kernelspec": {
   "display_name": "Python 3",
   "language": "python",
   "name": "python3"
  },
  "language_info": {
   "codemirror_mode": {
    "name": "ipython",
    "version": 3
   },
   "file_extension": ".py",
   "mimetype": "text/x-python",
   "name": "python",
   "nbconvert_exporter": "python",
   "pygments_lexer": "ipython3",
   "version": "3.5.2"
  }
 },
 "nbformat": 4,
 "nbformat_minor": 2
}
