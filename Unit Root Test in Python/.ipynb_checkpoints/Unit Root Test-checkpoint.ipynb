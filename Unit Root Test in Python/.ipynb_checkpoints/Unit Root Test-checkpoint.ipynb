{
 "cells": [
  {
   "cell_type": "code",
   "execution_count": 14,
   "metadata": {},
   "outputs": [
    {
     "name": "stdout",
     "output_type": "stream",
     "text": [
      "\n",
      "############################################################### \n",
      "# Augmented Dickey-Fuller Test Unit Root / Cointegration Test # \n",
      "############################################################### \n",
      "\n",
      "The value of the test statistic is: -1.8165 1.1153 1.6695 \n",
      "\n",
      "\n",
      "\n",
      "############################################################### \n",
      "# Augmented Dickey-Fuller Test Unit Root / Cointegration Test # \n",
      "############################################################### \n",
      "\n",
      "The value of the test statistic is: -1.8046 1.6322 \n",
      "\n",
      "\n",
      "\n",
      "################################################## \n",
      "# Phillips-Perron Unit Root / Cointegration Test # \n",
      "################################################## \n",
      "\n",
      "The value of the test statistic is: -11.18 \n",
      "\n",
      "\n"
     ]
    }
   ],
   "source": [
    "import rpy2\n",
    "import rpy2.robjects as robjects\n",
    "from rpy2.robjects import FloatVector\n",
    "from rpy2.robjects.packages import importr\n",
    "\n",
    "stats = importr('stats')\n",
    "base = importr('base')\n",
    "urca = importr('urca')\n",
    "data = FloatVector([4.17,5.58,5.18,6.11,4.50,4.61,5.17,4.53,5.33,5.14])\n",
    "\n",
    "\n",
    "\n",
    "# ADF Test: Trend\n",
    "print(urca.ur_df(data, lags=1, type='trend'))\n",
    "\n",
    "\n",
    "# ADF Test: Trend\n",
    "print(urca.ur_df(data, lags=1, type='drift'))\n",
    "\n",
    "\n",
    "# PP Test: Trend\n",
    "print(urca.ur_pp(data, type='Z-alpha', model='trend', use_lag=1))\n"
   ]
  }
 ],
 "metadata": {
  "kernelspec": {
   "display_name": "Python 3",
   "language": "python",
   "name": "python3"
  },
  "language_info": {
   "codemirror_mode": {
    "name": "ipython",
    "version": 3
   },
   "file_extension": ".py",
   "mimetype": "text/x-python",
   "name": "python",
   "nbconvert_exporter": "python",
   "pygments_lexer": "ipython3",
   "version": "3.5.2"
  }
 },
 "nbformat": 4,
 "nbformat_minor": 2
}
